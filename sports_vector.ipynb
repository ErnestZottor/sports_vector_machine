{
 "cells": [
  {
   "cell_type": "code",
   "execution_count": null,
   "id": "7dd49e41",
   "metadata": {},
   "outputs": [],
   "source": [
    "\n",
    "import matplotlib.pyplot as plt\n",
    "from sklearn.svm import SVC\n",
    "from sklearn.model_selection import train_test_split\n",
    "from svm_visualization import draw_boundary\n",
    "from players import aaron_judge, jose_altuve, david_ortiz\n",
    "\n",
    "\n",
    "print(aaron_judge.columns)\n",
    "print(aaron_judge.description.unique())\n",
    "print(aaron_judge.type.unique())\n",
    "\n",
    "fig, ax = plt.subplots()\n",
    "def svm_classifier(data_set):\n",
    "    data_set.type = data_set.type.map({'S':1, 'B':0})\n",
    "    data_set = data_set.dropna(subset = ['type', 'plate_x', 'plate_z','strikes'])\n",
    "  \n",
    "    plt.scatter(x=data_set.plate_x, y=data_set.plate_z, c=data_set.type, cmap=plt.cm.coolwarm, alpha=0.25)\n",
    "  \n",
    "    training_set, validation_set = train_test_split(data_set , random_state = 1)\n",
    "\n",
    "\n",
    "    classifier = SVC(kernel='rbf', gamma=1, C=3)\n",
    "    classifier.fit(training_set[['plate_x', 'plate_z','strikes']], training_set.type)\n",
    "\n",
    "  \n",
    "    score = classifier.score(validation_set[['plate_x', 'plate_z', 'strikes']], validation_set.type)\n",
    "    print(score)\n",
    "#     draw_boundary(ax, classifier)\n",
    "    ax.set_ylim(-2, 6)\n",
    "    ax.set_xlim(-3, 3)\n",
    "    plt.show()\n",
    "    \n",
    "svm_classifier(jose_altuve)\n",
    "svm_classifier(david_ortiz)\n",
    "svm_classifier(aaron_judge)"
   ]
  }
 ],
 "metadata": {
  "kernelspec": {
   "display_name": "Python 3",
   "language": "python",
   "name": "python3"
  },
  "language_info": {
   "codemirror_mode": {
    "name": "ipython",
    "version": 3
   },
   "file_extension": ".py",
   "mimetype": "text/x-python",
   "name": "python",
   "nbconvert_exporter": "python",
   "pygments_lexer": "ipython3",
   "version": "3.8.8"
  }
 },
 "nbformat": 4,
 "nbformat_minor": 5
}
